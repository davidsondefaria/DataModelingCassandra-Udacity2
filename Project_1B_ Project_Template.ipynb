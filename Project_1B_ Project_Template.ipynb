{
 "cells": [
  {
   "cell_type": "markdown",
   "metadata": {},
   "source": [
    "# Part I. ETL Pipeline for Pre-Processing the Files"
   ]
  },
  {
   "cell_type": "markdown",
   "metadata": {},
   "source": [
    "<!-- ## PLEASE RUN THE FOLLOWING CODE FOR PRE-PROCESSING THE FILES -->\n",
    "## 1. Dealing with raw data."
   ]
  },
  {
   "cell_type": "markdown",
   "metadata": {},
   "source": [
    "#### 1.1. Import Python packages "
   ]
  },
  {
   "cell_type": "code",
   "execution_count": 1,
   "metadata": {},
   "outputs": [],
   "source": [
    "import pandas as pd\n",
    "import cassandra\n",
    "import re\n",
    "import os\n",
    "import glob\n",
    "import numpy as np\n",
    "import json\n",
    "import csv"
   ]
  },
  {
   "cell_type": "markdown",
   "metadata": {},
   "source": [
    "#### 1.2. Creating list of filepaths to process original event csv data files"
   ]
  },
  {
   "cell_type": "code",
   "execution_count": 2,
   "metadata": {},
   "outputs": [],
   "source": [
    "filepath = os.getcwd() + '/event_data'\n",
    "\n",
    "for root, dirs, files in os.walk(filepath):\n",
    "    file_path_list = glob.glob(os.path.join(root,'*'))"
   ]
  },
  {
   "cell_type": "markdown",
   "metadata": {},
   "source": [
    "#### 1.3. Processing the files to create the data file csv that will be used for Apache Casssandra tables"
   ]
  },
  {
   "cell_type": "code",
   "execution_count": 3,
   "metadata": {},
   "outputs": [],
   "source": [
    "full_data_rows_list = []\n",
    "\n",
    "for f in file_path_list:\n",
    "    with open(f, 'r', encoding = 'utf8', newline='') as csvfile: \n",
    "        csvreader = csv.reader(csvfile) \n",
    "        next(csvreader)\n",
    "        for line in csvreader:\n",
    "            full_data_rows_list.append(line) \n",
    "\n",
    "csv.register_dialect('myDialect', quoting=csv.QUOTE_ALL, skipinitialspace=True)\n",
    "\n",
    "with open('event_datafile_new.csv', 'w', encoding = 'utf8', newline='') as f:\n",
    "    writer = csv.writer(f, dialect='myDialect')\n",
    "    writer.writerow(['artist','firstName','gender','itemInSession','lastName','length',\\\n",
    "                'level','location','sessionId','song','userId'])\n",
    "    for row in full_data_rows_list:\n",
    "        if (row[0] == ''):\n",
    "            continue\n",
    "        writer.writerow((row[0], row[2], row[3], row[4], row[5], row[6], row[7], row[8], row[12], row[13], row[16]))\n"
   ]
  },
  {
   "cell_type": "code",
   "execution_count": 4,
   "metadata": {},
   "outputs": [
    {
     "name": "stdout",
     "output_type": "stream",
     "text": [
      "The newdatafile has 751 lines.\n"
     ]
    }
   ],
   "source": [
    "with open('event_datafile_new.csv', 'r', encoding = 'utf8') as f:\n",
    "    print('The newdatafile has', sum(1 for line in f), 'lines.')"
   ]
  },
  {
   "cell_type": "markdown",
   "metadata": {},
   "source": [
    "<!-- # Part II. Complete the Apache Cassandra coding portion of your project. -->\n",
    "\n",
    "<!-- ## Now you are ready to work with the CSV file titled <font color=red>event_datafile_new.csv</font>, located within the Workspace directory.  The event_datafile_new.csv contains the following columns: -->\n",
    "\n",
    "# Part II. Data Modeling with Apache Cassandra\n",
    "\n",
    "## The second part of the project should model the data. \n",
    "### After create <font color=red>event_datafile_new.csv</font>, the data is denormalized and ready to be modeled with Cassandra. The *event_datafile_new.csv* contains the following columns: \n",
    "- artist \n",
    "- firstName of user\n",
    "- gender of user\n",
    "- item number in session\n",
    "- last name of user\n",
    "- length of the song\n",
    "- level (paid or free song)\n",
    "- location of the user\n",
    "- sessionId\n",
    "- song title\n",
    "- userId\n",
    "\n",
    "The image below is a screenshot of what the denormalized data should appear like in the **[event_datafile_new.csv](./event_datafile_new.csv)** after the code above is run:<br>\n",
    "\n",
    "<img src=\"images/image_event_datafile_new.jpg\">"
   ]
  },
  {
   "cell_type": "markdown",
   "metadata": {},
   "source": [
    "<!-- ## Begin writing your Apache Cassandra code in the cells below -->\n",
    "## 1. Creating an Apache Cassandra cluster and setting the keyspace."
   ]
  },
  {
   "cell_type": "markdown",
   "metadata": {},
   "source": [
    "#### 1.1. Creating a Cluster"
   ]
  },
  {
   "cell_type": "code",
   "execution_count": 5,
   "metadata": {},
   "outputs": [],
   "source": [
    "from cassandra.cluster import Cluster\n",
    "cluster = Cluster()\n",
    "\n",
    "session = cluster.connect()"
   ]
  },
  {
   "cell_type": "markdown",
   "metadata": {},
   "source": [
    "#### 1.2. Creating a Keyspace"
   ]
  },
  {
   "cell_type": "code",
   "execution_count": 6,
   "metadata": {},
   "outputs": [],
   "source": [
    "try:\n",
    "    session.execute(\"\"\"\n",
    "    CREATE KEYSPACE IF NOT EXISTS udacity \n",
    "    WITH REPLICATION = \n",
    "    { 'class' : 'SimpleStrategy', 'replication_factor' : 1 }\"\"\"\n",
    ")\n",
    "\n",
    "except Exception as e:\n",
    "    print(e)"
   ]
  },
  {
   "cell_type": "markdown",
   "metadata": {},
   "source": [
    "#### 1.2. Setting a Keyspace"
   ]
  },
  {
   "cell_type": "code",
   "execution_count": 7,
   "metadata": {},
   "outputs": [],
   "source": [
    "try:\n",
    "    session.set_keyspace('udacity')\n",
    "except Exception as e:\n",
    "    print(e)"
   ]
  },
  {
   "cell_type": "markdown",
   "metadata": {},
   "source": [
    "<!-- ### Now we need to create tables to run the following queries. Remember, with Apache Cassandra you model the database tables on the queries you want to run. -->\n",
    "\n",
    "## 2. Data Modeling\n",
    "\n",
    "### Three queries will be created to model the data from the following questions:\n",
    "- Which song, artist and song's length in the music app history that was heard during session id 338 and item in session 4?\n",
    "- Which artist, song (sorted by item in session) and user (first and last name) are in user id 10 and session id 182?\n",
    "- Which users (first and last name) in my music app history who listened to the song 'All Hands Against His Own'?\n",
    "\n",
    "#### To answer these questions, one must create tables that are compatible with each of them and enter the data appropriately for each search.\n",
    "\n",
    "<!---\n",
    "### Create queries to ask the following three questions of the data\n",
    "\n",
    "#### 2.1. Give me the artist, song title and song's length in the music app history that was heard during  sessionId = 338, and itemInSession  = 4\n",
    "\n",
    "\n",
    "#### 2.2. Give me only the following: name of artist, song (sorted by itemInSession) and user (first and last name) for userid = 10, sessionid = 182\n",
    "    \n",
    "\n",
    "#### 2.3. Give me every user name (first and last) in my music app history who listened to the song 'All Hands Against His Own'\n",
    "--->\n"
   ]
  },
  {
   "cell_type": "markdown",
   "metadata": {},
   "source": [
    "### 2.1. Which song, artist and song's length in the music app history that was heard during session id 338 and item in session 4?\n",
    "#### The ***song\\_in\\_session*** **table** is created to give music information by searching for sessions."
   ]
  },
  {
   "cell_type": "code",
   "execution_count": 8,
   "metadata": {},
   "outputs": [],
   "source": [
    "query1_create = \"\"\"\n",
    "    CREATE TABLE song_in_session\n",
    "    ( sessionId int, itemInSession int, firstName text, gender text\n",
    "    , lastName text, length float, level text, location text\n",
    "    , artist text, song text, userId int\n",
    "    , PRIMARY KEY (sessionId, itemInSession)\n",
    "    );\n",
    "\"\"\"\n",
    "\n",
    "try:\n",
    "    session.execute(\"\"\"\n",
    "        DROP TABLE IF EXISTS song_in_session;\n",
    "    \"\"\")\n",
    "    session.execute(query1_create)\n",
    "except Exception as e:\n",
    "    print(e)        "
   ]
  },
  {
   "cell_type": "markdown",
   "metadata": {},
   "source": [
    "For this query, the **Primary Key** must be a composition of _sessionId_ and _itemInSession_. Since each session can have more than one song, the items per session key makes this pair unique."
   ]
  },
  {
   "cell_type": "markdown",
   "metadata": {},
   "source": [
    "#### In order to insert it into table, one must read the new csv and make an INSERT statement putting the primary keys in order."
   ]
  },
  {
   "cell_type": "code",
   "execution_count": 9,
   "metadata": {
    "scrolled": false
   },
   "outputs": [],
   "source": [
    "file = 'event_datafile_new.csv'\n",
    "\n",
    "with open(file, encoding = 'utf8') as f:\n",
    "    csvreader = csv.reader(f)\n",
    "    next(csvreader)\n",
    "    for line in csvreader:\n",
    "        query1_insert = \"\"\"\n",
    "        INSERT INTO song_in_session (sessionId, itemInSession, firstName, gender, lastName, length, level, \n",
    "                                   location, artist, song, userId)\n",
    "        VALUES (%s, %s, %s, %s, %s, %s, %s, %s, %s, %s, %s)    \n",
    "        \"\"\"\n",
    "        session.execute(query1_insert, \\\n",
    "                        (int(line[8]), int(line[3]), line[1], line[2], line[4], float(line[5]), \\\n",
    "                         line[6], line[7], line[0], line[9], int(line[10])))\n"
   ]
  },
  {
   "cell_type": "markdown",
   "metadata": {},
   "source": [
    "<!-- #### Do a SELECT to verify that the data have been inserted into each table -->\n",
    "#### If you want to verify that the data was entered correctly, a SELECT statement must be written to fetch the desired sessions."
   ]
  },
  {
   "cell_type": "code",
   "execution_count": 10,
   "metadata": {},
   "outputs": [
    {
     "name": "stdout",
     "output_type": "stream",
     "text": [
      "artist:  Tamba Trio \n",
      "song:  Quem Quiser Encontrar O Amor \n",
      "duration:  177.18812561035156\n"
     ]
    }
   ],
   "source": [
    "query1_select = \"SELECT artist, song, length \\\n",
    "                    FROM song_in_session \\\n",
    "                    WHERE sessionId=139 \\\n",
    "                    AND itemInSession=4;\"\n",
    "try:\n",
    "    rows = session.execute(query1_select)\n",
    "except Exception as e:\n",
    "    print(\"ERRO: \", e)\n",
    "    \n",
    "for row in rows:\n",
    "    print (\"artist: \", row.artist, \"\\nsong: \",row.song, \"\\nduration: \", row.length)"
   ]
  },
  {
   "cell_type": "markdown",
   "metadata": {},
   "source": [
    "This query should search for any given _sessionId_ and filter by _itemInSession_.\n",
    "\n",
    "Note 1: This query can't  search for _itemInSession_ without a _sessionID_, because of the order that the primary key was created.\n",
    "\n",
    "Note 2: Since _sessionId = 338_ doesn't exist in *event_datafile_new.csv*, we use _sessionId = 139_ to show that query is working."
   ]
  },
  {
   "cell_type": "markdown",
   "metadata": {},
   "source": [
    "<!-- ### COPY AND REPEAT THE ABOVE THREE CELLS FOR EACH OF THE THREE QUESTIONS-->\n",
    "### 2.2. Which artist, song (sorted by item in session) and user (first and last name) are in user id 10 and session id 182?\n",
    "#### The ***song_playlist_session*** **table** is created to give music and user information by searching for user and session."
   ]
  },
  {
   "cell_type": "code",
   "execution_count": 11,
   "metadata": {},
   "outputs": [],
   "source": [
    "query2_create = \"\"\"\n",
    "    CREATE TABLE song_playlist_session\n",
    "    ( userId int, sessionId int, itemInSession int, firstName text\n",
    "    , gender text, lastName text, length float, level text\n",
    "    , location text, artist text, song text, \n",
    "    , PRIMARY KEY ((userId, sessionId), itemInSession))\n",
    "    WITH CLUSTERING ORDER BY (itemInSession ASC)\n",
    "    ;\n",
    "\"\"\"\n",
    "\n",
    "try:\n",
    "    session.execute(\"\"\"\n",
    "        DROP TABLE IF EXISTS song_playlist_session;\n",
    "    \"\"\")\n",
    "    session.execute(query2_create)\n",
    "except Exception as e:\n",
    "    print(e)    "
   ]
  },
  {
   "cell_type": "markdown",
   "metadata": {},
   "source": [
    "For this query, the **Primary Key** can't be just a composition of _userId_ and _sessionId_ because this pair isn't unique, despite giving us the list of information we want. To make it unique, itemInSession completes the primary key as a clustering column and sorts the data."
   ]
  },
  {
   "cell_type": "markdown",
   "metadata": {},
   "source": [
    "#### In order to insert it into table, one must read the new csv and make an INSERT statement putting the primary keys in order."
   ]
  },
  {
   "cell_type": "code",
   "execution_count": 12,
   "metadata": {},
   "outputs": [],
   "source": [
    "with open(file, encoding = 'utf8') as f:\n",
    "    csvreader = csv.reader(f)\n",
    "    next(csvreader)\n",
    "    for line in csvreader:\n",
    "        query2_insert = \"\"\"\n",
    "        INSERT INTO song_playlist_session (userId, sessionId, itemInSession, firstName, gender, lastName, length, level, \n",
    "                                   location, artist, song)\n",
    "        VALUES (%s, %s, %s, %s, %s, %s, %s, %s, %s, %s, %s)    \n",
    "        \"\"\"\n",
    "        session.execute(query2_insert, \\\n",
    "                        (int(line[10]), int(line[8]), int(line[3]), line[1], line[2], line[4], float(line[5]), \\\n",
    "                         line[6], line[7], line[0], line[9]))\n"
   ]
  },
  {
   "cell_type": "markdown",
   "metadata": {},
   "source": [
    "#### If you want to verify that the data was entered correctly, a SELECT statement must be written to fetch the desired sessions."
   ]
  },
  {
   "cell_type": "code",
   "execution_count": 13,
   "metadata": {},
   "outputs": [
    {
     "name": "stdout",
     "output_type": "stream",
     "text": [
      "0: artist: Down To The Bone\n",
      "   song: Keep On Keepin' On\n",
      "   user: Sylvie Cruz\n",
      "1: artist: Three Drives\n",
      "   song: Greece 2000\n",
      "   user: Sylvie Cruz\n",
      "2: artist: Sebastien Tellier\n",
      "   song: Kilometer\n",
      "   user: Sylvie Cruz\n",
      "3: artist: Lonnie Gordon\n",
      "   song: Catch You Baby (Steve Pitron & Max Sanna Radio Edit)\n",
      "   user: Sylvie Cruz\n"
     ]
    }
   ],
   "source": [
    "query2_select = \"SELECT artist, song, firstName, lastName, itemInSession \\\n",
    "                    FROM song_playlist_session \\\n",
    "                    WHERE userId=10 \\\n",
    "                    AND sessionId=182;\"\n",
    "try:\n",
    "    rows = session.execute(query2_select)\n",
    "except Exception as e:\n",
    "    print(\"ERRO: \", e)\n",
    "    \n",
    "for row in rows:\n",
    "    print(\"%d: artist: %s\\n   song: %s\\n   user: %s %s\"%\\\n",
    "          (row.iteminsession, row.artist, row.song, row.firstname, row.lastname))\n"
   ]
  },
  {
   "cell_type": "markdown",
   "metadata": {},
   "source": [
    "This query should return a list of songs heard by any given _userId_ and any given _sessionId_ if exists. If you want a unique information, you have to give a _itemInSession_.\n",
    "This wont work with just an _userId_ or a _sessionId_ because the partition key need a pair of it."
   ]
  },
  {
   "cell_type": "markdown",
   "metadata": {},
   "source": [
    "<!-- ### COPY AND REPEAT THE ABOVE THREE CELLS FOR EACH OF THE THREE QUESTIONS-->\n",
    "### 2.3. Which users (first and last name) in my music app history who listened to the song 'All Hands Against His Own'?\n",
    "#### The ***user_who_listened*** **table** is created to give user information by searching for song."
   ]
  },
  {
   "cell_type": "code",
   "execution_count": 14,
   "metadata": {},
   "outputs": [],
   "source": [
    "query3_create = \"\"\"\n",
    "    CREATE TABLE user_who_listened\n",
    "    ( song text, sessionId int, itemInSession int, firstName text\n",
    "    , gender text, lastName text, length float, level text\n",
    "    , location text, artist text, userId int\n",
    "    , PRIMARY KEY ((song), userId)\n",
    "    );\n",
    "\"\"\"\n",
    "\n",
    "try:\n",
    "    session.execute(\"\"\"\n",
    "        DROP TABLE IF EXISTS user_who_listened;\n",
    "    \"\"\")\n",
    "    session.execute(query3_create)\n",
    "except Exception as e:\n",
    "    print(e)        "
   ]
  },
  {
   "cell_type": "markdown",
   "metadata": {},
   "source": [
    "For this query, the **Primary Key** has to be tha partition key _song_ and clustering column _userId_ because we want to search by song and userId make the pair unique."
   ]
  },
  {
   "cell_type": "markdown",
   "metadata": {},
   "source": [
    "#### In order to insert it into table, one must read the new csv and make an INSERT statement putting the primary keys in order."
   ]
  },
  {
   "cell_type": "code",
   "execution_count": 15,
   "metadata": {},
   "outputs": [],
   "source": [
    "with open(file, encoding = 'utf8') as f:\n",
    "    csvreader = csv.reader(f)\n",
    "    next(csvreader) \n",
    "    for line in csvreader:\n",
    "        query3_insert = \"\"\"\n",
    "        INSERT INTO user_who_listened (song, userId, itemInSession, firstName, gender, lastName, length, level, \n",
    "                                   location, artist, sessionId)\n",
    "        VALUES (%s, %s, %s, %s, %s, %s, %s, %s, %s, %s, %s)    \n",
    "        \"\"\"\n",
    "        session.execute(query3_insert, \\\n",
    "                        (line[9], int(line[10]), int(line[3]), line[1], line[2], line[4], \\\n",
    "                         float(line[5]), line[6], line[7], line[0], int(line[8])))"
   ]
  },
  {
   "cell_type": "markdown",
   "metadata": {},
   "source": [
    "#### If you want to verify that the data was entered correctly, a SELECT statement must be written to fetch the desired sessions."
   ]
  },
  {
   "cell_type": "code",
   "execution_count": 16,
   "metadata": {},
   "outputs": [
    {
     "name": "stdout",
     "output_type": "stream",
     "text": [
      "user: Sara Johnson\n"
     ]
    }
   ],
   "source": [
    "query3_select = \"SELECT firstName, lastName \\\n",
    "                    FROM user_who_listened \\\n",
    "                    WHERE song='All Hands Against His Own'\"\n",
    "try:\n",
    "    rows = session.execute(query3_select)\n",
    "except Exception as e:\n",
    "    print(\"ERRO: \", e)\n",
    "    \n",
    "for row in rows:\n",
    "    print(\"user: %s %s\"%(row.firstname, row.lastname))\n"
   ]
  },
  {
   "cell_type": "markdown",
   "metadata": {},
   "source": [
    "This query should give any user who listened a given song."
   ]
  },
  {
   "cell_type": "markdown",
   "metadata": {},
   "source": [
    "### Dropping the tables"
   ]
  },
  {
   "cell_type": "code",
   "execution_count": 17,
   "metadata": {},
   "outputs": [
    {
     "data": {
      "text/plain": [
       "<cassandra.cluster.ResultSet at 0x7fd5c95b7630>"
      ]
     },
     "execution_count": 17,
     "metadata": {},
     "output_type": "execute_result"
    }
   ],
   "source": [
    "session.execute(\"DROP TABLE IF EXISTS song_in_session;\")\n",
    "session.execute(\"DROP TABLE IF EXISTS song_playlist_session;\")\n",
    "session.execute(\"DROP TABLE IF EXISTS user_who_listened;\")"
   ]
  },
  {
   "cell_type": "code",
   "execution_count": null,
   "metadata": {},
   "outputs": [],
   "source": []
  },
  {
   "cell_type": "markdown",
   "metadata": {},
   "source": [
    "### Closing the session and cluster connection¶"
   ]
  },
  {
   "cell_type": "code",
   "execution_count": 18,
   "metadata": {},
   "outputs": [],
   "source": [
    "session.shutdown()\n",
    "cluster.shutdown()"
   ]
  },
  {
   "cell_type": "code",
   "execution_count": null,
   "metadata": {},
   "outputs": [],
   "source": []
  }
 ],
 "metadata": {
  "kernelspec": {
   "display_name": "Python 3",
   "language": "python",
   "name": "python3"
  },
  "language_info": {
   "codemirror_mode": {
    "name": "ipython",
    "version": 3
   },
   "file_extension": ".py",
   "mimetype": "text/x-python",
   "name": "python",
   "nbconvert_exporter": "python",
   "pygments_lexer": "ipython3",
   "version": "3.6.3"
  }
 },
 "nbformat": 4,
 "nbformat_minor": 2
}
